{
 "cells": [
  {
   "cell_type": "markdown",
   "metadata": {},
   "source": [
    "# 01- Conditional Structure and Loops"
   ]
  },
  {
   "cell_type": "markdown",
   "metadata": {},
   "source": [
    "Python provides different control structures that allow us to adapt to all possible cases. It allows the make decision (alternative structure) and loops (repetitive structures)."
   ]
  },
  {
   "cell_type": "markdown",
   "metadata": {},
   "source": [
    "## 01.0. Comparisons\n",
    "\n",
    "Python comes with literal comparison operators.  Namely, `< > <= >= == !=`.  All comparisons return the lirteral boolean values: `True` or `False`.  These can be used to test values against one another. For example,"
   ]
  },
  {
   "cell_type": "code",
   "execution_count": 8,
   "metadata": {
    "collapsed": false
   },
   "outputs": [
    {
     "data": {
      "text/plain": [
       "False"
      ]
     },
     "execution_count": 8,
     "metadata": {},
     "output_type": "execute_result"
    }
   ],
   "source": [
    "2 + 2 == 41"
   ]
  },
  {
   "cell_type": "code",
   "execution_count": 20,
   "metadata": {
    "collapsed": false
   },
   "outputs": [
    {
     "data": {
      "text/plain": [
       "True"
      ]
     },
     "execution_count": 20,
     "metadata": {},
     "output_type": "execute_result"
    }
   ],
   "source": [
    "'s' > 'basdf'"
   ]
  },
  {
   "cell_type": "markdown",
   "metadata": {},
   "source": [
    "Comparisons can be chained together with the **and** & **or** Python keywords."
   ]
  },
  {
   "cell_type": "code",
   "execution_count": 19,
   "metadata": {
    "collapsed": false
   },
   "outputs": [
    {
     "data": {
      "text/plain": [
       "False"
      ]
     },
     "execution_count": 19,
     "metadata": {},
     "output_type": "execute_result"
    }
   ],
   "source": [
    "1 == 1.0 and 'hello' == 'hello'"
   ]
  },
  {
   "cell_type": "code",
   "execution_count": null,
   "metadata": {
    "collapsed": true
   },
   "outputs": [],
   "source": [
    "1 >10 or False"
   ]
  },
  {
   "cell_type": "code",
   "execution_count": null,
   "metadata": {
    "collapsed": true
   },
   "outputs": [],
   "source": [
    "42 < 24 or True and 'wow' != 'mom'"
   ]
  },
  {
   "cell_type": "markdown",
   "metadata": {},
   "source": [
    "Comparisons may also be negated using the **not** keyword."
   ]
  },
  {
   "cell_type": "code",
   "execution_count": null,
   "metadata": {
    "collapsed": true
   },
   "outputs": [],
   "source": [
    "not 2 + 2 == 5"
   ]
  },
  {
   "cell_type": "markdown",
   "metadata": {},
   "source": [
    "Finally, the **is** opperator says wherer two objects are the same because they occupy the same place in memory.  This is a test of *equality* (is) rather than *equivalence* (==)."
   ]
  },
  {
   "cell_type": "code",
   "execution_count": null,
   "metadata": {
    "collapsed": true
   },
   "outputs": [],
   "source": [
    "x = 'hello'\n",
    "y = x\n",
    "x is y"
   ]
  },
  {
   "cell_type": "code",
   "execution_count": null,
   "metadata": {
    "collapsed": true
   },
   "outputs": [],
   "source": [
    "5 is 5.0"
   ]
  },
  {
   "cell_type": "code",
   "execution_count": null,
   "metadata": {
    "collapsed": true
   },
   "outputs": [],
   "source": [
    "5 is not 5.0"
   ]
  },
  {
   "cell_type": "markdown",
   "metadata": {},
   "source": [
    "## 01.1. Making Decision or If statements"
   ]
  },
  {
   "cell_type": "markdown",
   "metadata": {},
   "source": [
    "The decision structure is to run something in the event that a condition is true. Decision structures evaluate multiple expressions which produce TRUE or FALSE as result. You need to determine which action to take and which statements to execute if outcome is TRUE or FALSE otherwise.\n",
    "\n",
    "That said, these comparisons can be placed inside of an **if** statement.  Such statements have the following form:\n",
    "\n",
    "    if <condition>:\n",
    "        <indented block of code>\n",
    "\n",
    "The indented code will only be execute if the condition evaulates to `True`, which is a special boolean value.\n"
   ]
  },
  {
   "cell_type": "code",
   "execution_count": 1,
   "metadata": {
    "collapsed": true
   },
   "outputs": [],
   "source": [
    "x=10\n",
    "y=12\n",
    "if x == 5:\n",
    "    print (\"x vaut 5\")"
   ]
  },
  {
   "cell_type": "code",
   "execution_count": null,
   "metadata": {
    "collapsed": false
   },
   "outputs": [],
   "source": [
    "y = -x\n",
    "if y < 0:\n",
    "    print (\"y is negative\")"
   ]
  },
  {
   "cell_type": "markdown",
   "metadata": {},
   "source": [
    "The **if** statement can be combined to great effect with a corresponding **else** clause. \n",
    "\n",
    "    if <condition>:\n",
    "        <if-block>\n",
    "    else:\n",
    "        <else-block>\n",
    "        \n",
    "When the condition is `True` the if-block is executed.  When the condition is `False` the else-block is executed instead."
   ]
  },
  {
   "cell_type": "code",
   "execution_count": null,
   "metadata": {
    "collapsed": true
   },
   "outputs": [],
   "source": [
    "x = 5\n",
    "if x < 0:\n",
    "    print \"x is negative\"\n",
    "else:\n",
    "    print \"x in non-negative\""
   ]
  },
  {
   "cell_type": "markdown",
   "metadata": {},
   "source": [
    "Many cases may be tested by using the **elif** statement.  These come between all the if and else statements:\n",
    "\n",
    "    if <if-condition>:\n",
    "        <if-block>\n",
    "    elif <elif-condition>:\n",
    "        <elif-block>\n",
    "    else:\n",
    "        <else-block>\n",
    "        \n",
    "When if-condition is true then only the if-block is executed.  When elif-condition is true then only the elif-block is executed.  When neither of these are true then the else-block is executed."
   ]
  },
  {
   "cell_type": "code",
   "execution_count": null,
   "metadata": {
    "collapsed": true
   },
   "outputs": [],
   "source": [
    "x = 5\n",
    "if x < 0:\n",
    "    print \"x is negative\"\n",
    "elif x == 0:\n",
    "    print \"x is zero\"\n",
    "else:\n",
    "    print \"x is positive\""
   ]
  },
  {
   "cell_type": "markdown",
   "metadata": {},
   "source": [
    "While there must be one if statetment, and there may be at most one else statement, there maybe as many elif statements as are desired.\n",
    "\n",
    "    if <if-condition>:\n",
    "        <if-block>\n",
    "    elif <elif-condition1>:\n",
    "        <elif-block1>\n",
    "    elif <elif-condition2>:\n",
    "        <elif-block2>\n",
    "    elif <elif-condition3>:\n",
    "        <elif-block3>\n",
    "    ...\n",
    "    else:\n",
    "        <else-block>\n",
    "        \n",
    "Only the block for top most condition that is true is executed."
   ]
  },
  {
   "cell_type": "code",
   "execution_count": null,
   "metadata": {
    "collapsed": false
   },
   "outputs": [],
   "source": [
    "x = 5\n",
    "if x < 0:\n",
    "    print (\"x is negative\")\n",
    "elif x == 0:\n",
    "    print (\"x is zero\")\n",
    "#elif x > 0:    \n",
    "   # print (\"x is positive\")\n",
    "elif x == 1:\n",
    "    print (\"x is one\")\n",
    "elif x == 2:\n",
    "    print (\"x is two\")\n",
    "else:\n",
    "    print (\"x is positive and greater than 2\")"
   ]
  },
  {
   "cell_type": "markdown",
   "metadata": {},
   "source": [
    "**Exercise:** Write an if statement that prints whether x is even or odd."
   ]
  },
  {
   "cell_type": "code",
   "execution_count": 26,
   "metadata": {
    "collapsed": false
   },
   "outputs": [
    {
     "name": "stdout",
     "output_type": "stream",
     "text": [
      "Even number\n"
     ]
    }
   ],
   "source": [
    "x = 11\n",
    "f = x / 2\n",
    "z = float(y * 2)\n",
    "if z == x:\n",
    "    print(\"Even number\")\n",
    "else:\n",
    "    print(\"Odd number\")"
   ]
  },
  {
   "cell_type": "markdown",
   "metadata": {},
   "source": [
    "### Lists of Sequential Numbers\n",
    "\n",
    "Many times it is helpful to have a list of numbers in a row. In Python, this is called a `range`. "
   ]
  },
  {
   "cell_type": "code",
   "execution_count": null,
   "metadata": {
    "collapsed": true
   },
   "outputs": [],
   "source": [
    "range(5)"
   ]
  },
  {
   "cell_type": "markdown",
   "metadata": {},
   "source": [
    "Note that the list that you get will start at 0 by default (like list indicies) and goes up to _but does not include_ the number requested. This may seem nonintutitive, but the rationale is the following: \n",
    "\n",
    "- the default is to start with `0`\n",
    "- the goal is to provide a list of `N` total number (for example, `range(5)` provides 5 numbers total\n"
   ]
  },
  {
   "cell_type": "markdown",
   "metadata": {},
   "source": [
    "However, you can make them start with 1 if you want!"
   ]
  },
  {
   "cell_type": "code",
   "execution_count": null,
   "metadata": {
    "collapsed": true
   },
   "outputs": [],
   "source": [
    "range(1, 5)"
   ]
  },
  {
   "cell_type": "markdown",
   "metadata": {},
   "source": [
    "Lear more about the range command."
   ]
  },
  {
   "cell_type": "code",
   "execution_count": null,
   "metadata": {
    "collapsed": true
   },
   "outputs": [],
   "source": [
    "range?"
   ]
  },
  {
   "cell_type": "markdown",
   "metadata": {},
   "source": [
    "## 01.2. Loops"
   ]
  },
  {
   "cell_type": "markdown",
   "metadata": {},
   "source": [
    "In programming, a loop is a sequence of instructions that is continually repeated until a certain condition is reached. Imagine we want to compute the mean of 2 real numbers, we will need 2 variables to store this two values. For 3 numbers, we will need 3 variables as follows:"
   ]
  },
  {
   "cell_type": "code",
   "execution_count": null,
   "metadata": {
    "collapsed": true
   },
   "outputs": [],
   "source": [
    "a=10.1\n",
    "b=4\n",
    "c=8\n",
    "var_mean=(a+b+c)/3\n",
    "print (var_mean)"
   ]
  },
  {
   "cell_type": "markdown",
   "metadata": {},
   "source": [
    "What about 1000 real numbers? Will we declare 1000 variables as done for 3 variables? I think the answer is NOT. A loop is required in this case. There are two types of loops in Python: **for loop** and **while loop**.\n",
    "\n",
    "### 01.2.1. Syntax\n",
    "\n",
    "\n",
    "    while <condition>:\n",
    "        <indented block of code>\n",
    "As long as the condition is True, the code in the block will continue to execute.  This may lead to infitinely executing loops!"
   ]
  },
  {
   "cell_type": "code",
   "execution_count": null,
   "metadata": {
    "collapsed": false
   },
   "outputs": [],
   "source": [
    "N = 10\n",
    "i=0\n",
    "while i < 8:\n",
    "    print (i)\n",
    "    i = i+1"
   ]
  },
  {
   "cell_type": "markdown",
   "metadata": {},
   "source": [
    "Meanwhile, for-loops have the following structure:\n",
    "\n",
    "    for <loop variable name> in <iterable>:\n",
    "         <indented block of code>\n",
    "         \n",
    "The loop will continue to execute as long as there are more iterations left in the iterable.  Upon each iteration, the value of that iteration is assigned to the loop variable."
   ]
  },
  {
   "cell_type": "code",
   "execution_count": null,
   "metadata": {
    "collapsed": false
   },
   "outputs": [],
   "source": [
    "for i in range(N):\n",
    "    print (i)"
   ]
  },
  {
   "cell_type": "markdown",
   "metadata": {},
   "source": [
    "To solve our previous problem as follows:"
   ]
  },
  {
   "cell_type": "markdown",
   "metadata": {},
   "source": [
    "While version:"
   ]
  },
  {
   "cell_type": "code",
   "execution_count": null,
   "metadata": {
    "collapsed": false
   },
   "outputs": [],
   "source": [
    "var_mean=0 #mean variable\n",
    "n=10 #total number of real numbers\n",
    "i=0\n",
    "while i<n:\n",
    "    number=input(\"input value \"+str(i+1)+\" : \")\n",
    "    var_mean=var_mean+float(number)\n",
    "    i+=1\n",
    "var_mean=var_mean/n\n",
    "print (\"the mean is: \", var_mean)"
   ]
  },
  {
   "cell_type": "markdown",
   "metadata": {},
   "source": [
    "Meanwhile, for-loops have the following structure:\n",
    "\n",
    "    for <loop variable name> in <iterable>:\n",
    "         <indented block of code>\n",
    "         \n",
    "The loop will continue to execute as long as there are more iterations left in the iterable.  Upon each iteration, the value of that iteration is assigned to the loop variable."
   ]
  },
  {
   "cell_type": "markdown",
   "metadata": {},
   "source": [
    "For version"
   ]
  },
  {
   "cell_type": "code",
   "execution_count": null,
   "metadata": {
    "collapsed": false
   },
   "outputs": [],
   "source": [
    "var_mean=0 #mean variable\n",
    "n=10 #total number of real numbers\n",
    "for i in range(n):\n",
    "    number=input(\"input value \"+str(i+1)+\" : \")\n",
    "    var_mean=var_mean+float(number)\n",
    "var_mean=var_mean/n\n",
    "print (\"the mean is: \", var_mean)"
   ]
  },
  {
   "cell_type": "markdown",
   "metadata": {},
   "source": [
    "## Short Exercise\n",
    "Using a loop, calculate the factorial of 42 (the product of all integers up to and including 42)."
   ]
  },
  {
   "cell_type": "code",
   "execution_count": 37,
   "metadata": {
    "collapsed": false
   },
   "outputs": [
    {
     "name": "stdout",
     "output_type": "stream",
     "text": [
      "6\n",
      "5\n",
      "4\n",
      "3\n",
      "2\n",
      "1\n",
      "720\n"
     ]
    }
   ],
   "source": [
    "var = 6\n",
    "summ = 1\n",
    "while(var >= 1):\n",
    "    print (var)\n",
    "    summ = summ * var\n",
    "    var = var - 1\n",
    "print (summ)"
   ]
  },
  {
   "cell_type": "code",
   "execution_count": 48,
   "metadata": {
    "collapsed": false
   },
   "outputs": [
    {
     "ename": "SyntaxError",
     "evalue": "can't assign to function call (<ipython-input-48-9ac5307d4f66>, line 2)",
     "output_type": "error",
     "traceback": [
      "\u001b[0;36m  File \u001b[0;32m\"<ipython-input-48-9ac5307d4f66>\"\u001b[0;36m, line \u001b[0;32m2\u001b[0m\n\u001b[0;31m    fact(0) = 1\u001b[0m\n\u001b[0m    ^\u001b[0m\n\u001b[0;31mSyntaxError\u001b[0m\u001b[0;31m:\u001b[0m can't assign to function call\n"
     ]
    }
   ],
   "source": [
    "def fact(0) = 1\n",
    "def fact(1) = 1\n",
    "def fact(x):\n",
    "    while(x > 1):\n",
    "        fact(x) = x * fact(x-1)\n",
    "    print (fact(x))\n",
    "x = input('Enter number to get factorial >>> ')\n",
    "fact(x)"
   ]
  },
  {
   "cell_type": "markdown",
   "metadata": {},
   "source": [
    "## break, continue and pass\n",
    "\n",
    "Break terminates the loop statement and transfers execution to the statement immediately following the loop. A break statement cuts off a loop from within an inner loop. It helps\n",
    "avoid infinite loops by cutting off loops when they're clearly going\n",
    "nowhere."
   ]
  },
  {
   "cell_type": "code",
   "execution_count": 4,
   "metadata": {
    "collapsed": false
   },
   "outputs": [
    {
     "name": "stdout",
     "output_type": "stream",
     "text": [
      "1\n",
      "2\n",
      "3\n",
      "4\n",
      "5\n",
      "6\n",
      "7\n",
      "8\n",
      "9\n"
     ]
    }
   ],
   "source": [
    "reasonable = 10\n",
    "for n in range(1,2000):\n",
    "    if n == reasonable :\n",
    "        break\n",
    "    print (n)"
   ]
  },
  {
   "cell_type": "code",
   "execution_count": null,
   "metadata": {
    "collapsed": false
   },
   "outputs": [],
   "source": [
    "var_mean=0 #mean variable\n",
    "n=10 #total number of real numbers\n",
    "i=0\n",
    "while i<n:\n",
    "    if (i+1)==5:\n",
    "        break\n",
    "    number=input(\"input value \"+str(i+1)+\" : \")\n",
    "    var_mean=var_mean+float(number)\n",
    "    i+=1    \n",
    "var_mean=var_mean/n\n",
    "print (\"the mean is: \", var_mean)"
   ]
  },
  {
   "cell_type": "markdown",
   "metadata": {},
   "source": [
    "Something you might want to do instead of breaking is to continue to the\n",
    "next iteration of a loop, giving up on the current one. Continue statement causes the loop to skip the remainder of its body and immediately retest its condition prior to reiterating."
   ]
  },
  {
   "cell_type": "code",
   "execution_count": null,
   "metadata": {
    "collapsed": false
   },
   "outputs": [],
   "source": [
    "reasonable = 10\n",
    "for n in range(1,20):\n",
    "    if n == reasonable :\n",
    "      continue\n",
    "    print (n)"
   ]
  },
  {
   "cell_type": "code",
   "execution_count": null,
   "metadata": {
    "collapsed": true
   },
   "outputs": [],
   "source": [
    "var_mean=0 #mean variable\n",
    "n=10 #total number of real numbers\n",
    "for i in range(n):\n",
    "    if (i+1)==2:\n",
    "        continue\n",
    "    number=input(\"input value \"+str(i+1)+\" : \")\n",
    "    var_mean=var_mean+float(number )\n",
    "var_mean=var_mean/n\n",
    "print (\"the mean is: \", var_mean)"
   ]
  },
  {
   "cell_type": "markdown",
   "metadata": {},
   "source": [
    "The pass statement is used when a statement is required syntactically but you do not want any command or code to execute. The pass statement is a null operation; nothing happens when it executes."
   ]
  },
  {
   "cell_type": "code",
   "execution_count": null,
   "metadata": {
    "collapsed": false
   },
   "outputs": [],
   "source": [
    "var_mean=0 #mean variable\n",
    "n=10 #total number of real numbers\n",
    "for i in range(n):\n",
    "    if (i+1)==2:\n",
    "        pass\n",
    "    number=input(\"input value \"+str(i+1)+\" : \")\n",
    "    var_mean=var_mean+float(number) \n",
    "var_mean=var_mean/n\n",
    "print (\"the mean is: \", var_mean)"
   ]
  },
  {
   "cell_type": "markdown",
   "metadata": {},
   "source": [
    "#### We can have nested loops: find for loop in while loop, or while loop in an other while loop, or for loop in an other for loop. Brief, any loop can contain other loops inside it. "
   ]
  }
 ],
 "metadata": {
  "anaconda-cloud": {},
  "kernelspec": {
   "display_name": "Python 3",
   "language": "python",
   "name": "python3"
  },
  "language_info": {
   "codemirror_mode": {
    "name": "ipython",
    "version": 3
   },
   "file_extension": ".py",
   "mimetype": "text/x-python",
   "name": "python",
   "nbconvert_exporter": "python",
   "pygments_lexer": "ipython3",
   "version": "3.4.3"
  }
 },
 "nbformat": 4,
 "nbformat_minor": 0
}
