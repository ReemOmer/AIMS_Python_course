{
 "cells": [
  {
   "cell_type": "markdown",
   "metadata": {},
   "source": [
    "# 08- Errors and Exceptions"
   ]
  },
  {
   "cell_type": "markdown",
   "metadata": {},
   "source": [
    "An error is a mistake, an act, assertion, or belief that unintentionally deviates from what is correct, right or true.\n",
    "\n",
    "In Python as in any other advanced programming languages, there are three types of errors: **Syntax (Parsing) Errors, Logic Errors and Runtime Errors (Exceptions)**. \n",
    "\n",
    "Syntax error is detected during compilation of the code (it is what we call commonly **error**). They are mostly experienced by novices such as indentation, call of *elif* without previous *if*, use a variable before its creation...With syntax errors, the program cannot be run until it is fixed. \n",
    "\n",
    "Logic error is not detected by the compiler but gives wrong result. It is just a matter of your brain, shake it a little bit...laugh\n",
    "\n",
    "Finally Runtime Error is what we call **Exceptions**, they are detected in running the program. Open an unexisted file, divide to value to zero, use an index of list out of its range, converting a list to an integer or any other numeric...\n",
    "\n",
    " ## 8.1. Error (Syntax Error)"
   ]
  },
  {
   "cell_type": "code",
   "execution_count": 33,
   "metadata": {
    "collapsed": false
   },
   "outputs": [],
   "source": [
    "b=11\n",
    "c=b"
   ]
  },
  {
   "cell_type": "markdown",
   "metadata": {},
   "source": [
    "Why are the following codes incorrect?"
   ]
  },
  {
   "cell_type": "code",
   "execution_count": 21,
   "metadata": {
    "collapsed": false
   },
   "outputs": [],
   "source": [
    "if b==10: print(\"This is true\")"
   ]
  },
  {
   "cell_type": "code",
   "execution_count": 23,
   "metadata": {
    "collapsed": false
   },
   "outputs": [
    {
     "name": "stdout",
     "output_type": "stream",
     "text": [
      "greater than 5\n"
     ]
    }
   ],
   "source": [
    "a=10.\n",
    "if a>5: print(\"greater than 5\") \n",
    "else: print(\"less than 5\") "
   ]
  },
  {
   "cell_type": "markdown",
   "metadata": {},
   "source": [
    "** The syntax errors are due to the immaturity of the programmers. But more you make errors, more you become mature. A syntax error cannot be handled.**"
   ]
  },
  {
   "cell_type": "markdown",
   "metadata": {},
   "source": [
    "## 8.2. Logic Error\n",
    "\n",
    "Is this code correct?"
   ]
  },
  {
   "cell_type": "code",
   "execution_count": 27,
   "metadata": {
    "collapsed": false
   },
   "outputs": [
    {
     "name": "stdout",
     "output_type": "stream",
     "text": [
      "18.84955592153876\n"
     ]
    }
   ],
   "source": [
    "#Area of a rectangle\n",
    "from math import pi\n",
    "width=3.\n",
    "height=2.\n",
    "area=pi*width*height  # we have to remove pi\n",
    "print(area)"
   ]
  },
  {
   "cell_type": "markdown",
   "metadata": {},
   "source": [
    "**The only way to handle logic error is to check your brain...If not, humble yourself and ask questions to your colleagues.**"
   ]
  },
  {
   "cell_type": "markdown",
   "metadata": {},
   "source": [
    "## 8.3. Exception (Runtime Error)"
   ]
  },
  {
   "cell_type": "code",
   "execution_count": 35,
   "metadata": {
    "collapsed": false
   },
   "outputs": [
    {
     "name": "stdout",
     "output_type": "stream",
     "text": [
      "read a string as value: asdf\n",
      "invalid literal for int() with base 10: 'asdf'\n"
     ]
    }
   ],
   "source": [
    "try:\n",
    "    a=input(\"read a string as value: \")\n",
    "    int(a)\n",
    "except ValueError as e:\n",
    "    print(e)"
   ]
  },
  {
   "cell_type": "code",
   "execution_count": 38,
   "metadata": {
    "collapsed": false
   },
   "outputs": [
    {
     "name": "stdout",
     "output_type": "stream",
     "text": [
      "name 'd' is not defined\n"
     ]
    }
   ],
   "source": [
    "try:\n",
    "    print (\"the value of d is: \", d)\n",
    "except NameError as e:\n",
    "    print(e)"
   ]
  },
  {
   "cell_type": "code",
   "execution_count": 40,
   "metadata": {
    "collapsed": false
   },
   "outputs": [
    {
     "name": "stdout",
     "output_type": "stream",
     "text": [
      "float division by zero\n"
     ]
    }
   ],
   "source": [
    "try:\n",
    "    in_value=10.0\n",
    "    out_value=in_value/0\n",
    "    print (out_value)\n",
    "except ZeroDivisionError as e:\n",
    "    print(e)"
   ]
  },
  {
   "cell_type": "markdown",
   "metadata": {},
   "source": [
    "The types of exceptions of your codes have to be known in advance (design space). The exceptions could not be shown in your own computer but to a tierce. \n",
    "\n",
    "Imagine in your code you open a file saved in your home with a full path of your computer, \n",
    "\n",
    "**(ex. /home/jmf/Documents/PYTHONG2016) **,\n",
    "\n",
    "and you give exactly the same code to your friend. The user name of your brother's computer is not \"jmf\" as shown in the path, an exception will occur."
   ]
  },
  {
   "cell_type": "markdown",
   "metadata": {},
   "source": [
    "### Handle with Exceptions\n",
    "\n",
    "~~~ {.python}\n",
    "try:\n",
    "    #error susceptible codes\n",
    "except typeofError as var_n:\n",
    "    #Error treatment\n",
    "except typeofError:\n",
    "    #Error treatment\n",
    "except:\n",
    "    #Error treatment\n",
    "finally:\n",
    "    #clean codes\n",
    "~~~\n",
    "\n",
    "#### Types of exceptions in Python:\n",
    "\n",
    "ZeroDivisionError, ValueError, IOError, NameError, TypeError, ...."
   ]
  },
  {
   "cell_type": "markdown",
   "metadata": {},
   "source": [
    "Handle an exception without specifying its type:"
   ]
  },
  {
   "cell_type": "code",
   "execution_count": null,
   "metadata": {
    "collapsed": false
   },
   "outputs": [],
   "source": [
    "try:\n",
    "    in_value=10.0\n",
    "    out_value=in_value/0\n",
    "    print (out_value)\n",
    "except:\n",
    "    print (\"error\")"
   ]
  },
  {
   "cell_type": "markdown",
   "metadata": {},
   "source": [
    "Handle an exception by specifying its type:"
   ]
  },
  {
   "cell_type": "code",
   "execution_count": null,
   "metadata": {
    "collapsed": false
   },
   "outputs": [],
   "source": [
    "try:\n",
    "    in_value=10.0\n",
    "    out_value=in_value/0\n",
    "    print (out_value)\n",
    "except ZeroDivisionError as err_name:\n",
    "    print (err_name)"
   ]
  },
  {
   "cell_type": "code",
   "execution_count": null,
   "metadata": {
    "collapsed": false
   },
   "outputs": [],
   "source": [
    "try:\n",
    "    a=input(\"read a string as value: \")\n",
    "    int(a)\n",
    "except NameError as err_name:\n",
    "    print err_name"
   ]
  },
  {
   "cell_type": "markdown",
   "metadata": {},
   "source": [
    "A bad reference of exception:"
   ]
  },
  {
   "cell_type": "code",
   "execution_count": null,
   "metadata": {
    "collapsed": false
   },
   "outputs": [],
   "source": [
    "try:\n",
    "    in_value=10.0\n",
    "    out_value=in_value/0\n",
    "    print (out_value)\n",
    "except NameError as err_name:\n",
    "    print (err_name)"
   ]
  },
  {
   "cell_type": "markdown",
   "metadata": {},
   "source": [
    "## 8.4. Examples"
   ]
  },
  {
   "cell_type": "markdown",
   "metadata": {},
   "source": [
    "**1.** Fix the following code if necessary and handle exceptions with **try...except...finally**:"
   ]
  },
  {
   "cell_type": "code",
   "execution_count": 13,
   "metadata": {
    "collapsed": false
   },
   "outputs": [
    {
     "name": "stdout",
     "output_type": "stream",
     "text": [
      "read the first value: 1\n",
      "read the second value: 2\n",
      "0.3\n",
      "Test finally\n"
     ]
    }
   ],
   "source": [
    "try:\n",
    "    a=input(\"read the first value: \")\n",
    "    b=input(\"read the second value: \")\n",
    "    c=10.0\n",
    "    result=(a+b)/c\n",
    "    print (result)\n",
    "except TypeError as e:\n",
    "    a=int(a)\n",
    "    b=int(b)\n",
    "    result=(a+b)/c\n",
    "    print (result)\n",
    "finally:\n",
    "    print(\"Test finally\")"
   ]
  },
  {
   "cell_type": "markdown",
   "metadata": {},
   "source": [
    "**2.** Insert the following code  into **try...except...finally**:"
   ]
  },
  {
   "cell_type": "code",
   "execution_count": 9,
   "metadata": {
    "collapsed": false
   },
   "outputs": [
    {
     "name": "stdout",
     "output_type": "stream",
     "text": [
      "File not found\n",
      "testing finally\n"
     ]
    }
   ],
   "source": [
    "try:\n",
    "    f=open(\"polygons.py\", \"r\")\n",
    "    lines=f.readlines()\n",
    "    s=0\n",
    "    for line in lines:\n",
    "        item=line.split(\",\")\n",
    "        s+=float(item[2])\n",
    "    print (s)\n",
    "except:\n",
    "    print(\"File not found\")\n",
    "finally:\n",
    "    print(\"testing finally\")"
   ]
  },
  {
   "cell_type": "markdown",
   "metadata": {},
   "source": [
    "**3.** Precise the exception that can be raised in the following code  and prevent it with **try...except...finally**:"
   ]
  },
  {
   "cell_type": "code",
   "execution_count": null,
   "metadata": {
    "collapsed": false
   },
   "outputs": [],
   "source": [
    "import numpy as np\n",
    "def SoergelMetric(x, y):\n",
    "    p=len(x)\n",
    "    delta_num=0.0\n",
    "    delta_den=0.0\n",
    "    for i in range(p):\n",
    "        delta_num+=np.abs(x[i]-y[i])\n",
    "        delta_den+=np.max([x[i],y[i]])\n",
    "    delta=delta_num/delta_den\n",
    "    return delta"
   ]
  },
  {
   "cell_type": "code",
   "execution_count": null,
   "metadata": {
    "collapsed": true
   },
   "outputs": [],
   "source": [
    "x=[1, 2, 6]\n",
    "y=[0, 1, 4]\n",
    "SoergelMetric(x, y)"
   ]
  },
  {
   "cell_type": "markdown",
   "metadata": {},
   "source": [
    "## 8.5. Exercises"
   ]
  },
  {
   "cell_type": "markdown",
   "metadata": {},
   "source": [
    "**1.** Describe different exceptions that the following code can raise. Can you fix it? Please, do it."
   ]
  },
  {
   "cell_type": "code",
   "execution_count": null,
   "metadata": {
    "collapsed": false
   },
   "outputs": [],
   "source": [
    "import sqlite3 as lite\n",
    "import sys\n",
    "\n",
    "con = None\n",
    "con = lite.connect('species_surveysdb.sqlite')\n",
    "cur = con.cursor()    \n",
    "cur.execute('SELECT SQLITE_VERSION()')  \n",
    "data = cur.fetchone() \n",
    "print (\"SQLite version: %s\" % data)                \n",
    "if con:\n",
    "    con.close()"
   ]
  },
  {
   "cell_type": "markdown",
   "metadata": {},
   "source": [
    "**2.** How many try...except...finally are required in the following code? Can you insert them? Please do it."
   ]
  },
  {
   "cell_type": "code",
   "execution_count": 5,
   "metadata": {
    "collapsed": false
   },
   "outputs": [
    {
     "data": {
      "text/plain": [
       "([1, 3, 4], [(1, 3), (3, 4), (1, 4)], [(0.5, 0.0), (0, 1), (1, 1)])"
      ]
     },
     "execution_count": 5,
     "metadata": {},
     "output_type": "execute_result"
    }
   ],
   "source": [
    "import numpy as np\n",
    "class Polygon: \n",
    "    \n",
    "    #Attributes\n",
    "    title=\"rectangle\"\n",
    "    convexity=False\n",
    "    __area=[(0, 0), (1, 0), (0, 1), (1, 1)]\n",
    "    _adjacencies=[(1, 2), (1, 3), (3, 4), (2, 4)]\n",
    "    \n",
    "    #Constructor\n",
    "    def __init__(self, dim):\n",
    "        self.dim=dim\n",
    "        self.nodes_labels=[i+1 for i in range(dim)]\n",
    "        \n",
    "    #Method: A Getter\n",
    "    def getNeighbours(self, point_x):\n",
    "        adjacencies_x=[]\n",
    "        for couple in self._adjacencies:\n",
    "            if point_x in couple:\n",
    "                adjacencies_x.append(couple[1-couple.index(point_x)])\n",
    "        return adjacencies_x\n",
    "    \n",
    "    # Method: A Setter\n",
    "    def cleanNeighbours(self, point_x):\n",
    "        copy_adjacencies=self._adjacencies[:]\n",
    "        for couple in self._adjacencies:\n",
    "            if point_x in couple:\n",
    "                copy_adjacencies.remove(couple) \n",
    "        self._adjacencies=copy_adjacencies[:]\n",
    "    \n",
    "    def getArea(self):\n",
    "        return self.__area\n",
    "    \n",
    "    def getAdjacencies(self):\n",
    "        return self._adjacencies\n",
    "    \n",
    "    def setAdjacency(self, t):\n",
    "        self._adjacencies.append(t)\n",
    "\n",
    "class Rectangle(Polygon):\n",
    "    #Constructor\n",
    "    def __init__(self, dim):\n",
    "        self.dim=dim\n",
    "        self.nodes_labels=[i+1 for i in range(dim)]\n",
    "    \n",
    "    def getRegTriangleFromRegRectangle(self):\n",
    "        adjacencies=self.getAdjacencies()\n",
    "        area=self.getArea()\n",
    "        point_x_to_delete=np.random.randint(1, 5)# choose point to delete\n",
    "        #get neighbours of the point to delete\n",
    "        adjacencies_x=self.getNeighbours(point_x_to_delete) \n",
    "        #delete the point chosen above\n",
    "        self.nodes_labels.remove(point_x_to_delete)\n",
    "        #regularize the remaining points by choosing one neighbour\n",
    "        point_to_move=np.random.choice(adjacencies_x)\n",
    "        #Remove the deleted point in adjacencies list\n",
    "        adjacencies=self.cleanNeighbours(point_x_to_delete)\n",
    "        #remove the moved point from the neighbours of the deleted point\n",
    "        adjacencies_x.remove(point_to_move)\n",
    "        #readjust the adjacencies \n",
    "        self.setAdjacency((point_to_move, adjacencies_x[0]))\n",
    "        #readjust the area\n",
    "        area[point_to_move-1]=((area[point_to_move-1][0]+area[point_x_to_delete-1][0])/2.0,(area[point_to_move-1][1]+area[point_x_to_delete-1][1])/2.0)\n",
    "        area.remove(area[point_x_to_delete-1])\n",
    "        self.title=\"Triangle\"\n",
    "        return self.nodes_labels,self.getAdjacencies(), area\n",
    "\n",
    "#instance of Rectangle\n",
    "rect=Rectangle(4)\n",
    "result=rect.getRegTriangleFromRegRectangle()\n",
    "result"
   ]
  }
 ],
 "metadata": {
  "kernelspec": {
   "display_name": "Python 3",
   "language": "python",
   "name": "python3"
  },
  "language_info": {
   "codemirror_mode": {
    "name": "ipython",
    "version": 3
   },
   "file_extension": ".py",
   "mimetype": "text/x-python",
   "name": "python",
   "nbconvert_exporter": "python",
   "pygments_lexer": "ipython3",
   "version": "3.4.3"
  }
 },
 "nbformat": 4,
 "nbformat_minor": 0
}
