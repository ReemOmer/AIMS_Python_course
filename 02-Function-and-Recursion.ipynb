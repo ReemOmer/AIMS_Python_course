{
 "cells": [
  {
   "cell_type": "code",
   "execution_count": null,
   "metadata": {
    "collapsed": true
   },
   "outputs": [],
   "source": [
    "##  02. Functions and Recursions\n",
    "\n",
    "\n",
    "\n",
    "Computers are very useful for doing the same operation over and over. When you know you will be performing the same operation many times, it is best to encapsulate this similar code into a function or a method. Functions are based on mathematical functions which are used to reffer to a sequence of operations, often parameterized in some way - e.g. $f(x)$."
   ]
  },
  {
   "cell_type": "markdown",
   "metadata": {},
   "source": [
    "## 02.0. Creating your own functions!"
   ]
  },
  {
   "cell_type": "markdown",
   "metadata": {},
   "source": [
    "A procedure is a type of routine in programming: a block of instructions that can be needed several times in codes. If this last returns a value, it is called a function. A procedure has a name and parameters: a name willbe needed in its usage while paramters are the inputs of the procedure, the values required to do its job. Particulary, a function has a third option \"output\", the value returned by the function."
   ]
  },
  {
   "cell_type": "markdown",
   "metadata": {},
   "source": [
    "\n",
    "    def <function name>():\n",
    "        <function body>"
   ]
  },
  {
   "cell_type": "code",
   "execution_count": 1,
   "metadata": {
    "collapsed": true
   },
   "outputs": [],
   "source": [
    "def do_nothing():\n",
    "    s = \"I don't do much\""
   ]
  },
  {
   "cell_type": "markdown",
   "metadata": {},
   "source": [
    "However, this often isn't very useful since we haven't returned any values from this file.  Note: that if you don't return anything from a function in Python, you implcitly have returned the special `None` singleton.  To return vaulues that you computed locally in the function body, use the **return** keyword.\n",
    "\n",
    "    def <function name>():\n",
    "        <functiom body>\n",
    "        return <local variable 1>   \n",
    "        \n",
    "Functions, may be defined to take parameters or **arguments**.\n",
    "\n",
    "    def <function name>(<argument>):\n",
    "        <function body>\n",
    "        return <local variable 1>  \n",
    "        \n",
    "The function name, arguments, and retun are jointly known as the **function signature** since the uniquely define the function's **interface**."
   ]
  },
  {
   "cell_type": "code",
   "execution_count": null,
   "metadata": {
    "collapsed": true
   },
   "outputs": [],
   "source": [
    "def square(x):\n",
    "    sqr = x * x\n",
    "    return sqr"
   ]
  },
  {
   "cell_type": "code",
   "execution_count": null,
   "metadata": {
    "collapsed": true
   },
   "outputs": [],
   "source": [
    "square(2)"
   ]
  },
  {
   "cell_type": "markdown",
   "metadata": {},
   "source": [
    "Like mathematical funtions, you can compose a function with other functions or with itself!"
   ]
  },
  {
   "cell_type": "code",
   "execution_count": null,
   "metadata": {
    "collapsed": true
   },
   "outputs": [],
   "source": [
    "square(square(2))"
   ]
  },
  {
   "cell_type": "markdown",
   "metadata": {},
   "source": [
    "Fucntions may be defined such that they have multiple arguments or multiple return values:\n",
    "\n",
    "    def <function name>(<arg1>, <arg2>, ...):\n",
    "        <functiom body>\n",
    "        return <var1> , <var2>, ..."
   ]
  },
  {
   "cell_type": "code",
   "execution_count": 14,
   "metadata": {
    "collapsed": true
   },
   "outputs": [],
   "source": [
    "def getsum(x,y):\n",
    "    return x*y"
   ]
  },
  {
   "cell_type": "code",
   "execution_count": 16,
   "metadata": {
    "collapsed": false
   },
   "outputs": [
    {
     "data": {
      "text/plain": [
       "1"
      ]
     },
     "execution_count": 16,
     "metadata": {},
     "output_type": "execute_result"
    }
   ],
   "source": [
    "getsum(True,True)"
   ]
  },
  {
   "cell_type": "code",
   "execution_count": null,
   "metadata": {
    "collapsed": true
   },
   "outputs": [],
   "source": [
    "getsum(3,7)"
   ]
  },
  {
   "cell_type": "code",
   "execution_count": null,
   "metadata": {
    "collapsed": true
   },
   "outputs": [],
   "source": [
    "getsum(getsum(4,5), getsum(8,2))"
   ]
  },
  {
   "cell_type": "code",
   "execution_count": 17,
   "metadata": {
    "collapsed": false
   },
   "outputs": [],
   "source": [
    "# return both the quotient and remainder\n",
    "def quorem(a, b):\n",
    "    quo = a / b\n",
    "    rem = a % b\n",
    "    return quo, rem"
   ]
  },
  {
   "cell_type": "code",
   "execution_count": 19,
   "metadata": {
    "collapsed": false
   },
   "outputs": [
    {
     "data": {
      "text/plain": [
       "(5.0, 0)"
      ]
     },
     "execution_count": 19,
     "metadata": {},
     "output_type": "execute_result"
    }
   ],
   "source": [
    "quorem(10, 2)"
   ]
  },
  {
   "cell_type": "markdown",
   "metadata": {
    "collapsed": true
   },
   "source": [
    "Note that when you return multiple values you may unpack these into individual variables:"
   ]
  },
  {
   "cell_type": "code",
   "execution_count": null,
   "metadata": {
    "collapsed": true
   },
   "outputs": [],
   "source": [
    "q, r = quorem(42, 16)\n",
    "print q\n",
    "print r"
   ]
  },
  {
   "cell_type": "code",
   "execution_count": 20,
   "metadata": {
    "collapsed": false
   },
   "outputs": [],
   "source": [
    "def hello(time, name):\n",
    "    print ('Good ' + time + ', ' + name + '!')"
   ]
  },
  {
   "cell_type": "code",
   "execution_count": 21,
   "metadata": {
    "collapsed": false
   },
   "outputs": [
    {
     "name": "stdout",
     "output_type": "stream",
     "text": [
      "Good afternoon, August Intake 2016!\n"
     ]
    }
   ],
   "source": [
    "hello('afternoon', 'August Intake 2016')"
   ]
  },
  {
   "cell_type": "code",
   "execution_count": 14,
   "metadata": {
    "collapsed": false
   },
   "outputs": [],
   "source": [
    "def multi_by_two(x, y=2):\n",
    "    return x*y"
   ]
  },
  {
   "cell_type": "code",
   "execution_count": null,
   "metadata": {
    "collapsed": false
   },
   "outputs": [],
   "source": []
  },
  {
   "cell_type": "markdown",
   "metadata": {},
   "source": [
    "### Exercise\n",
    "\n",
    "Write a function called `increment` that increments (increases) one number by another number and returns the result. By default it should increment any number by `1`."
   ]
  },
  {
   "cell_type": "code",
   "execution_count": 39,
   "metadata": {
    "collapsed": false
   },
   "outputs": [],
   "source": [
    "x = 0\n",
    "def increment(x):\n",
    "    print (x)\n",
    "    x+=1\n",
    "    return increment(not x)"
   ]
  },
  {
   "cell_type": "code",
   "execution_count": 143,
   "metadata": {
    "collapsed": false
   },
   "outputs": [
    {
     "name": "stdout",
     "output_type": "stream",
     "text": [
      "0\n"
     ]
    }
   ],
   "source": [
    "counter = 0\n",
    "def collatz(x):\n",
    "    global counter\n",
    "    if x == 1:\n",
    "        counter += 1\n",
    "        print (1,\">>>\",counter)\n",
    "        return 1\n",
    "    if x % 2 == 0:\n",
    "        counter += 1        \n",
    "        print (x,\">>>\",counter)\n",
    "        return collatz(int(x/2))\n",
    "    else:\n",
    "        counter += 1        \n",
    "        print (x,\">>>\",counter)\n",
    "        return collatz(int(3*x+1))\n",
    "print(counter)\n"
   ]
  },
  {
   "cell_type": "code",
   "execution_count": 144,
   "metadata": {
    "collapsed": false
   },
   "outputs": [
    {
     "name": "stdout",
     "output_type": "stream",
     "text": [
      "6 >>> 1\n",
      "3 >>> 2\n",
      "10 >>> 3\n",
      "5 >>> 4\n",
      "16 >>> 5\n",
      "8 >>> 6\n",
      "4 >>> 7\n",
      "2 >>> 8\n",
      "1 >>> 9\n"
     ]
    },
    {
     "data": {
      "text/plain": [
       "1"
      ]
     },
     "execution_count": 144,
     "metadata": {},
     "output_type": "execute_result"
    }
   ],
   "source": [
    "collatz(6)"
   ]
  },
  {
   "cell_type": "code",
   "execution_count": 24,
   "metadata": {
    "collapsed": false
   },
   "outputs": [
    {
     "data": {
      "text/plain": [
       "True"
      ]
     },
     "execution_count": 24,
     "metadata": {},
     "output_type": "execute_result"
    }
   ],
   "source": [
    "increment(5) == 6\n",
    "increment(-5) == -4\n",
    "increment(5, 2.5) == 7.5"
   ]
  },
  {
   "cell_type": "markdown",
   "metadata": {},
   "source": [
    "### 02.1. Recursion\n",
    "One of the greatest features of functions is that they may call themselves from withing their own bodies!  This is known as **recurssion**.  "
   ]
  },
  {
   "cell_type": "code",
   "execution_count": 25,
   "metadata": {
    "collapsed": false
   },
   "outputs": [],
   "source": [
    "def count_backwards(x):\n",
    "    print (x)\n",
    "    count_backwards(x-1)"
   ]
  },
  {
   "cell_type": "code",
   "execution_count": 2,
   "metadata": {
    "collapsed": false
   },
   "outputs": [],
   "source": [
    "#count_backwards(10)"
   ]
  },
  {
   "cell_type": "markdown",
   "metadata": {},
   "source": [
    "Well, that was too much.  Thus it is important to ensure that reccursive functions have some case which does not call itself.  This will terminate the recurrsion."
   ]
  },
  {
   "cell_type": "code",
   "execution_count": null,
   "metadata": {
    "collapsed": true
   },
   "outputs": [],
   "source": [
    "def count_backwards(x):\n",
    "    print x\n",
    "    if x > 0:\n",
    "        count_backwards(x-1)"
   ]
  },
  {
   "cell_type": "code",
   "execution_count": 1,
   "metadata": {
    "collapsed": false
   },
   "outputs": [],
   "source": [
    "#count_backwards(10)"
   ]
  },
  {
   "cell_type": "markdown",
   "metadata": {},
   "source": [
    "One of the most famous recurssive sequences is the [Fibonacci sequence](http://en.wikipedia.org/wiki/Fibonacci_number).  This can be defined as a single recursive function."
   ]
  },
  {
   "cell_type": "code",
   "execution_count": null,
   "metadata": {
    "collapsed": true
   },
   "outputs": [],
   "source": [
    "def fib(n):\n",
    "    if n == 0 or n == 1:\n",
    "        return n\n",
    "    else:\n",
    "        return fib(n - 1) + fib(n - 2)"
   ]
  },
  {
   "cell_type": "code",
   "execution_count": null,
   "metadata": {
    "collapsed": true
   },
   "outputs": [],
   "source": [
    "fib(10)"
   ]
  },
  {
   "cell_type": "code",
   "execution_count": 5,
   "metadata": {
    "collapsed": false
   },
   "outputs": [
    {
     "name": "stdout",
     "output_type": "stream",
     "text": [
      "Enter the1\n",
      "Hello 1\n",
      "Enter the2\n",
      "Hello 2\n",
      "Enter the3\n",
      "Hello 3\n"
     ]
    }
   ],
   "source": [
    "for i in range(0, 3):\n",
    "    x = input('Enter the')\n",
    "    print('Hello', x)"
   ]
  },
  {
   "cell_type": "code",
   "execution_count": 17,
   "metadata": {
    "collapsed": false
   },
   "outputs": [
    {
     "name": "stdout",
     "output_type": "stream",
     "text": [
      "Enter No.4\n"
     ]
    },
    {
     "ename": "AttributeError",
     "evalue": "'NoneType' object has no attribute 'split'",
     "output_type": "error",
     "traceback": [
      "\u001b[0;31m---------------------------------------------------------------------------\u001b[0m",
      "\u001b[0;31mAttributeError\u001b[0m                            Traceback (most recent call last)",
      "\u001b[0;32m<ipython-input-17-89d94f2a417b>\u001b[0m in \u001b[0;36m<module>\u001b[0;34m()\u001b[0m\n\u001b[1;32m      1\u001b[0m \u001b[0mx\u001b[0m \u001b[0;34m=\u001b[0m \u001b[0;34m[\u001b[0m\u001b[0;34m]\u001b[0m\u001b[0;34m\u001b[0m\u001b[0m\n\u001b[0;32m----> 2\u001b[0;31m \u001b[0mx\u001b[0m\u001b[0;34m=\u001b[0m\u001b[0mmap\u001b[0m\u001b[0;34m(\u001b[0m\u001b[0mint\u001b[0m\u001b[0;34m,\u001b[0m\u001b[0mx\u001b[0m\u001b[0;34m.\u001b[0m\u001b[0mappend\u001b[0m\u001b[0;34m(\u001b[0m\u001b[0minput\u001b[0m\u001b[0;34m(\u001b[0m\u001b[0;34m\"Enter No.\"\u001b[0m\u001b[0;34m)\u001b[0m\u001b[0;34m)\u001b[0m\u001b[0;34m.\u001b[0m\u001b[0msplit\u001b[0m\u001b[0;34m(\u001b[0m\u001b[0;34m' '\u001b[0m\u001b[0;34m)\u001b[0m\u001b[0;34m)\u001b[0m\u001b[0;34m\u001b[0m\u001b[0m\n\u001b[0m\u001b[1;32m      3\u001b[0m \u001b[0mprint\u001b[0m\u001b[0;34m(\u001b[0m\u001b[0mlen\u001b[0m\u001b[0;34m(\u001b[0m\u001b[0mx\u001b[0m\u001b[0;34m)\u001b[0m\u001b[0;34m)\u001b[0m\u001b[0;34m\u001b[0m\u001b[0m\n",
      "\u001b[0;31mAttributeError\u001b[0m: 'NoneType' object has no attribute 'split'"
     ]
    }
   ],
   "source": [
    "x = []\n",
    "x=map(int,x.append(input(\"Enter No.\")).split(' '))\n",
    "print(len(x))"
   ]
  },
  {
   "cell_type": "code",
   "execution_count": 9,
   "metadata": {
    "collapsed": false
   },
   "outputs": [
    {
     "name": "stdout",
     "output_type": "stream",
     "text": [
      "Enter 1st Country # of medals in order G|S|B 1 2 3\n",
      "<class 'int'> 10\n",
      "Enter 2d Country # of medals in order G|S|B 1 2 3\n",
      "<class 'int'> 10\n",
      ">>> both countries have same order <<<\n"
     ]
    }
   ],
   "source": [
    "g0,s0,b0 = input(\"Enter 1st Country # of medals in order G|S|B \").split()\n",
    "sum0 = 3*int(g0)+2*int(s0)+int(b0)\n",
    "print(type(sum0),sum0)\n",
    "g1,s1,b1 = input(\"Enter 2d Country # of medals in order G|S|B \").split()\n",
    "sum1 = 3*int(g1)+2*int(s1)+int(b1)\n",
    "print(type(sum1),sum1)\n",
    "if sum0 > sum1:\n",
    "    print(\"Congratzzz >>> The 1st country ranks HIGHER than 2nd country<<<\")\n",
    "elif sum0 < sum1:\n",
    "    print(\"Hardluck >>> The 1st country ranks LOWER than 2nd country <<<\")\n",
    "else:\n",
    "    print(\">>> both countries have the same order <<<\")"
   ]
  },
  {
   "cell_type": "code",
   "execution_count": 15,
   "metadata": {
    "collapsed": false
   },
   "outputs": [
    {
     "name": "stdout",
     "output_type": "stream",
     "text": [
      "Enter Country's number of medals in order G|S|B\n",
      "1st Country 2 0 0\n",
      "2d Country 3 0 1\n",
      "False <<<2nd is Higher>>>\n"
     ]
    }
   ],
   "source": [
    "f = \"<<<1st is Higher>>>\"\n",
    "s = \"<<<2nd is Higher>>>\"\n",
    "b = \">>> Both countries have the same order <<<\"\n",
    "bool_var = True\n",
    "country0 = []\n",
    "country1 = []\n",
    "\n",
    "def cal(i=0):\n",
    "    while i < 3:\n",
    "        if country0[i] > country1[i]:\n",
    "            print(bool_var,f)\n",
    "            break\n",
    "        elif country0[i] < country1[i]:\n",
    "            print(not bool_var,s)\n",
    "            break\n",
    "        else:\n",
    "            i += 1\n",
    "            if i == 3:\n",
    "               print(b)\n",
    "            \n",
    "print(\"Enter Country's number of medals in order G|S|B\")\n",
    "g0,s0,b0 = input(\"1st Country \").split()\n",
    "country0.extend([int(g0),int(s0),int(b0)])\n",
    "g1,s1,b1 = input(\"2d Country \").split()\n",
    "country1.extend([int(g1),int(s1),int(b1)])\n",
    "cal()"
   ]
  },
  {
   "cell_type": "code",
   "execution_count": 4,
   "metadata": {
    "collapsed": false
   },
   "outputs": [
    {
     "name": "stdout",
     "output_type": "stream",
     "text": [
      "Enter 2 Strings 123 123\n",
      "equal\n"
     ]
    }
   ],
   "source": [
    "firstString,secString = input(\"Enter 2 Strings \").split()\n",
    "if firstString > secString:\n",
    "    print(True)\n",
    "elif firstString == secString:\n",
    "    print(\"equal\")\n",
    "else:\n",
    "    print(False)"
   ]
  },
  {
   "cell_type": "markdown",
   "metadata": {},
   "source": [
    "### 02.2. Modules\n",
    "Python has a lot of useful data type and functions built into the language, some of which you have already seen. For a full list, you can type `dir(__builtins__)`. However, there are even more functions stored in modules. An example is the sine function, which is stored in the math module. In order to access mathematical functions, like sin, we need to **import** the math module. Lets take a look at a simple example:"
   ]
  },
  {
   "cell_type": "code",
   "execution_count": null,
   "metadata": {
    "collapsed": true
   },
   "outputs": [],
   "source": [
    "print (sin(3)) # Error! Python doesn't know what sin is...yet"
   ]
  },
  {
   "cell_type": "code",
   "execution_count": null,
   "metadata": {
    "collapsed": true
   },
   "outputs": [],
   "source": [
    "import math # Import the math module\n",
    "math.sin(3)"
   ]
  },
  {
   "cell_type": "code",
   "execution_count": null,
   "metadata": {
    "collapsed": true
   },
   "outputs": [],
   "source": [
    "dir(math) # See a list of everything in the math module"
   ]
  },
  {
   "cell_type": "code",
   "execution_count": null,
   "metadata": {
    "collapsed": true
   },
   "outputs": [],
   "source": [
    "help(math) # Get help information for the math module"
   ]
  },
  {
   "cell_type": "markdown",
   "metadata": {},
   "source": [
    "It is not very difficult to use modules - you just have to know the module name and import it. There are a few variations on the import statement that can be used to make your life easier. Lets take a look at an example:"
   ]
  },
  {
   "cell_type": "code",
   "execution_count": null,
   "metadata": {
    "collapsed": true
   },
   "outputs": [],
   "source": [
    "from math import *  # import everything from math into the global namespace (A BAD IDEA IN GENERAL)\n",
    "print (sin(3))        # notice that we don't need to type math.sin anymore\n",
    "print (tan(3))        # the tangent function was also in math, so we can use that too"
   ]
  },
  {
   "cell_type": "code",
   "execution_count": null,
   "metadata": {
    "collapsed": true
   },
   "outputs": [],
   "source": [
    "reset # Clear everything from IPython"
   ]
  },
  {
   "cell_type": "code",
   "execution_count": null,
   "metadata": {
    "collapsed": true
   },
   "outputs": [],
   "source": [
    "from math import sin  # Import just sin from the math module. This is a good idea.\n",
    "print sin(3)          # We can use sin because we just imported it\n",
    "print tan(3)          # Error: We only imported sin - not tan"
   ]
  },
  {
   "cell_type": "code",
   "execution_count": null,
   "metadata": {
    "collapsed": true
   },
   "outputs": [],
   "source": [
    "reset                 # Clear everything"
   ]
  },
  {
   "cell_type": "code",
   "execution_count": null,
   "metadata": {
    "collapsed": true
   },
   "outputs": [],
   "source": [
    "import math as m      # Same as import math, except we are renaming the module m\n",
    "print m.sin(3)        # This is really handy if you have module names that are long"
   ]
  }
 ],
 "metadata": {
  "anaconda-cloud": {},
  "kernelspec": {
   "display_name": "Python 3",
   "language": "python",
   "name": "python3"
  },
  "language_info": {
   "codemirror_mode": {
    "name": "ipython",
    "version": 3
   },
   "file_extension": ".py",
   "mimetype": "text/x-python",
   "name": "python",
   "nbconvert_exporter": "python",
   "pygments_lexer": "ipython3",
   "version": "3.4.3"
  }
 },
 "nbformat": 4,
 "nbformat_minor": 0
}
