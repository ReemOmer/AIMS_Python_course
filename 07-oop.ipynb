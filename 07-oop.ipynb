{
 "cells": [
  {
   "cell_type": "markdown",
   "metadata": {},
   "source": [
    "# 07- Basic Object Oriented Programming"
   ]
  },
  {
   "cell_type": "markdown",
   "metadata": {},
   "source": [
    "## 7.1. Introduction"
   ]
  },
  {
   "cell_type": "markdown",
   "metadata": {},
   "source": [
    "Up to now, programming has always raised various reactions ranging up in total contradiction:\n",
    "\n",
    "* For some, it is just a childish building game in which it is sufficient to bind basic instructions (in small numbers) in order to solve any problem;\n",
    "* While others say, however, it is about producing (in an industrial sense) software with quality requirements that we will measure based on certain criteria.\n",
    "\n",
    "Object Oriented Programming (OOP) is a new way of designing or organising a code. There were procedural programming languages before such as (C, Pascal), but OOP came with new programming languages (Python, Java, C++, C#, ...). **Object** in OOP is a main key, nothing can be done without its presence. \n",
    "\n",
    "This new concept (OOP) came with a lot of advantages such as:\n",
    "\n",
    "* **Accuracy**: is the ability of a software to provide the desired results, in normal conditions;\n",
    "* **Robustness**: is the ability to respond well when we departure from normal conditions;\n",
    "* **Scalability**: is the ease with which a program can be adapted to satisfy a changing specifications;\n",
    "* **Reusability**: is the ability to use parts (modules) of software to solve another problem;\n",
    "* **Portability**: is the ease with which one can use the same software in different plateforms;\n",
    "* **Efficiency**: management of running time, memory size.\n",
    "\n",
    "The contributions of OOP:\n",
    "\n",
    "* **Object**: is the socle of OOP, namely a combination of data and procedures: *Methods + Data = Object*\n",
    "* **Encapsulation**: it is not possible to directly act on the data of an object; it is necessary to do through *its methods*. Thus playing the role of binding interface. Sometimes, this is translated to: *call a method* is actually the sending a *message to the object*\n",
    "* **Class**: is a description of a set of objects with a common data structure and having the same methods. The objects then appear as variables and class as data-type (an object is an *instance* of the class).\n",
    "* **Inheritance**: It defines a new class from an existing, to which is added new data and methods. The new class is called *derived class* while the old class is called *base class* \n",
    "* **Polymorphism**: Usually in OOP, a derived class can redefine (change an implementation) of some methods inherited from the base class. In other ways, it is the ability to treat in the same way different types of objects, provided that they are all classes derived from the same base class. Specifically, the object is used as if it was from the base class, but its effective behavior depends on its derived class.\n",
    "\n",
    "**Therefore, OOP helps you to think before typing any codes. It is a considerable advantage compared to procedural programming.**\n",
    "\n",
    "Through this notebook, we will consider four kinds of methods we find in Python:\n",
    "\n",
    "* **Getter**: is a method that returns values;\n",
    "* **Setter**: is a method that does not return values;\n",
    "* **Constructor**: is a method that creates an object with a specific initial state.\n",
    "* **Destructor**: is a method that detroys an object.\n",
    "\n",
    "**Example**: A rectangle has four sides, they may have the same length. An hexagon has six sides, an heptagon seven sides...Any idea on how we can generalize them? \n",
    "\n",
    "Is there any straight link among them all? ...Think of how to get one from another. \n",
    "\n",
    "One would like to know whether the shape is convex or not. Another would like to know about the equality and symmetry of the shape (it is whether equiangular or cyclic or equilateral).}.."
   ]
  },
  {
   "cell_type": "markdown",
   "metadata": {},
   "source": [
    "## 7.2. OOP with Python\n",
    "\n",
    "### A. Class, Attributes, Methods and Objects"
   ]
  },
  {
   "cell_type": "code",
   "execution_count": 2,
   "metadata": {
    "collapsed": false
   },
   "outputs": [],
   "source": [
    "import numpy as np\n",
    "class Polygon: \n",
    "    \n",
    "    #Attributes\n",
    "    title=\"rectangle\"\n",
    "    convexity=False\n",
    "    __area=[(0, 0), (1, 0), (0, 1), (1, 1)]\n",
    "    _adjacencies=[(1, 2), (1, 3), (3, 4), (2, 4)]\n",
    "    \n",
    "    #Constructor\n",
    "    def __init__(self, dim):\n",
    "        self.dim=dim\n",
    "        self.nodes_labels=[i+1 for i in range(dim)]\n",
    "        \n",
    "    #Method: A Getter\n",
    "    def getNeighbours(self, point_x):\n",
    "        adjacencies_x=[]\n",
    "        for couple in self._adjacencies:\n",
    "            if point_x in couple:\n",
    "                adjacencies_x.append(couple[1-couple.index(point_x)])\n",
    "        return adjacencies_x\n",
    "    \n",
    "    # Method: A Setter\n",
    "    def cleanNeighbours(self, point_x):\n",
    "        copy_adjacencies=self._adjacencies[:]\n",
    "        for couple in self._adjacencies:\n",
    "            if point_x in couple:\n",
    "                copy_adjacencies.remove(couple) \n",
    "        self._adjacencies=copy_adjacencies[:]"
   ]
  },
  {
   "cell_type": "code",
   "execution_count": 7,
   "metadata": {
    "collapsed": false
   },
   "outputs": [],
   "source": [
    "Polygon?"
   ]
  },
  {
   "cell_type": "markdown",
   "metadata": {},
   "source": [
    "The word *self* means refers to the current object. But while you are calling a method, the word *self* is not considered a parameter."
   ]
  },
  {
   "cell_type": "markdown",
   "metadata": {},
   "source": [
    "#### An object is created as follows:"
   ]
  },
  {
   "cell_type": "code",
   "execution_count": 58,
   "metadata": {
    "collapsed": false
   },
   "outputs": [],
   "source": [
    "aPolygon=Polygon(4)"
   ]
  },
  {
   "cell_type": "markdown",
   "metadata": {},
   "source": [
    "#### The calling of the method getNeighbours is done as follows:"
   ]
  },
  {
   "cell_type": "code",
   "execution_count": 59,
   "metadata": {
    "collapsed": false
   },
   "outputs": [
    {
     "data": {
      "text/plain": [
       "[2, 3]"
      ]
     },
     "execution_count": 59,
     "metadata": {},
     "output_type": "execute_result"
    }
   ],
   "source": [
    "aPolygon.getNeighbours(1)"
   ]
  },
  {
   "cell_type": "code",
   "execution_count": 60,
   "metadata": {
    "collapsed": false
   },
   "outputs": [],
   "source": [
    "aPolygon.cleanNeighbours(1)"
   ]
  },
  {
   "cell_type": "code",
   "execution_count": 61,
   "metadata": {
    "collapsed": false
   },
   "outputs": [
    {
     "data": {
      "text/plain": [
       "[]"
      ]
     },
     "execution_count": 61,
     "metadata": {},
     "output_type": "execute_result"
    }
   ],
   "source": [
    "aPolygon.getNeighbours(1)"
   ]
  },
  {
   "cell_type": "markdown",
   "metadata": {},
   "source": [
    "We cannot see the attributes _adjacencies and area from the following object:"
   ]
  },
  {
   "cell_type": "code",
   "execution_count": 62,
   "metadata": {
    "collapsed": false
   },
   "outputs": [
    {
     "ename": "SyntaxError",
     "evalue": "invalid syntax (<ipython-input-62-6b4069c0c6a2>, line 1)",
     "output_type": "error",
     "traceback": [
      "\u001b[0;36m  File \u001b[0;32m\"<ipython-input-62-6b4069c0c6a2>\"\u001b[0;36m, line \u001b[0;32m1\u001b[0m\n\u001b[0;31m    aPolygon.\u001b[0m\n\u001b[0m             ^\u001b[0m\n\u001b[0;31mSyntaxError\u001b[0m\u001b[0;31m:\u001b[0m invalid syntax\n"
     ]
    }
   ],
   "source": [
    "aPolygon."
   ]
  },
  {
   "cell_type": "markdown",
   "metadata": {},
   "source": [
    "Because the attribute **_adjacencies** is protected (only the class and its derived classes have access on it) and **area** is private (only the class has access on it).\n",
    "\n",
    "To access their values out of class Polygon, we need to define new methods. The new class Polygon is as follows:"
   ]
  },
  {
   "cell_type": "code",
   "execution_count": 1,
   "metadata": {
    "collapsed": true
   },
   "outputs": [],
   "source": [
    "import numpy as np\n",
    "class Polygon: \n",
    "    \n",
    "    #Attributes\n",
    "    title=\"rectangle\"\n",
    "    convexity=False\n",
    "    __area=[(0, 0), (1, 0), (0, 1), (1, 1)]\n",
    "    _adjacencies=[(1, 2), (1, 3), (3, 4), (2, 4)]\n",
    "    \n",
    "    #Constructor\n",
    "    def __init__(self, dim):\n",
    "        self.dim=dim\n",
    "        self.nodes_labels=[i+1 for i in range(dim)]\n",
    "        \n",
    "    #Method: A Getter\n",
    "    def getNeighbours(self, point_x):\n",
    "        adjacencies_x=[]\n",
    "        for couple in self._adjacencies:\n",
    "            if point_x in couple:\n",
    "                adjacencies_x.append(couple[1-couple.index(point_x)])\n",
    "        return adjacencies_x\n",
    "    \n",
    "    # Method: A Setter\n",
    "    def cleanNeighbours(self, point_x):\n",
    "        copy_adjacencies=self._adjacencies[:]\n",
    "        for couple in self._adjacencies:\n",
    "            if point_x in couple:\n",
    "                copy_adjacencies.remove(couple) \n",
    "        self._adjacencies=copy_adjacencies[:]\n",
    "    \n",
    "    def getArea(self):\n",
    "        return self.__area\n",
    "    \n",
    "    def getAdjacencies(self):\n",
    "        return self._adjacencies\n",
    "    \n",
    "    def setAdjacency(self, t):\n",
    "        self._adjacencies.append(t)"
   ]
  },
  {
   "cell_type": "markdown",
   "metadata": {
    "collapsed": false
   },
   "source": [
    "But the remaining attributes are public, any object can access them."
   ]
  },
  {
   "cell_type": "markdown",
   "metadata": {},
   "source": [
    "**Exercise.** Add an attribute lengths, which is a list of tuples of the form: (label of polygon sides, length). Add a method in class Polygon that gets the label of the first side in lengths that has the smallest length."
   ]
  },
  {
   "cell_type": "markdown",
   "metadata": {},
   "source": [
    "### B. Inheritance: Derived Class"
   ]
  },
  {
   "cell_type": "markdown",
   "metadata": {},
   "source": [
    "Let us create now a derived class called Rectangle from Polygon as base class. \n",
    "\n",
    "##### Why is Rectangle a derived class?"
   ]
  },
  {
   "cell_type": "code",
   "execution_count": 9,
   "metadata": {
    "collapsed": false
   },
   "outputs": [
    {
     "ename": "SyntaxError",
     "evalue": "unexpected EOF while parsing (<ipython-input-9-88a9c913a45d>, line 2)",
     "output_type": "error",
     "traceback": [
      "\u001b[0;36m  File \u001b[0;32m\"<ipython-input-9-88a9c913a45d>\"\u001b[0;36m, line \u001b[0;32m2\u001b[0m\n\u001b[0;31m    \u001b[0m\n\u001b[0m    ^\u001b[0m\n\u001b[0;31mSyntaxError\u001b[0m\u001b[0;31m:\u001b[0m unexpected EOF while parsing\n"
     ]
    }
   ],
   "source": [
    "class Rectangle(Polygon):\n",
    "    #Constructor\n",
    "    def __init__(self, dim):\n",
    "        self.dim=dim\n",
    "        self.nodes_labels=[i+1 for i in range(dim)]"
   ]
  },
  {
   "cell_type": "code",
   "execution_count": 3,
   "metadata": {
    "collapsed": false
   },
   "outputs": [],
   "source": [
    "rect=Rectangle(4)"
   ]
  },
  {
   "cell_type": "code",
   "execution_count": 5,
   "metadata": {
    "collapsed": false
   },
   "outputs": [
    {
     "ename": "SyntaxError",
     "evalue": "invalid syntax (<ipython-input-5-2c48d858b625>, line 1)",
     "output_type": "error",
     "traceback": [
      "\u001b[0;36m  File \u001b[0;32m\"<ipython-input-5-2c48d858b625>\"\u001b[0;36m, line \u001b[0;32m1\u001b[0m\n\u001b[0;31m    rect.\u001b[0m\n\u001b[0m         ^\u001b[0m\n\u001b[0;31mSyntaxError\u001b[0m\u001b[0;31m:\u001b[0m invalid syntax\n"
     ]
    }
   ],
   "source": [
    "rect."
   ]
  },
  {
   "cell_type": "markdown",
   "metadata": {},
   "source": [
    "The magic is this:"
   ]
  },
  {
   "cell_type": "code",
   "execution_count": 6,
   "metadata": {
    "collapsed": false
   },
   "outputs": [
    {
     "data": {
      "text/plain": [
       "[2, 3]"
      ]
     },
     "execution_count": 6,
     "metadata": {},
     "output_type": "execute_result"
    }
   ],
   "source": [
    "rect.getNeighbours(1)"
   ]
  },
  {
   "cell_type": "code",
   "execution_count": 68,
   "metadata": {
    "collapsed": false
   },
   "outputs": [
    {
     "data": {
      "text/plain": [
       "'rectangle'"
      ]
     },
     "execution_count": 68,
     "metadata": {},
     "output_type": "execute_result"
    }
   ],
   "source": [
    "rect.title"
   ]
  },
  {
   "cell_type": "markdown",
   "metadata": {
    "collapsed": true
   },
   "source": [
    "We can access public or protected methods of the base class from derived classes."
   ]
  },
  {
   "cell_type": "markdown",
   "metadata": {},
   "source": [
    "**Example.** How can we change the value of title?"
   ]
  },
  {
   "cell_type": "code",
   "execution_count": null,
   "metadata": {
    "collapsed": false
   },
   "outputs": [],
   "source": []
  },
  {
   "cell_type": "markdown",
   "metadata": {},
   "source": [
    "**Exercise.** Add a method in Rectangle that checks either its adjacency is well defined"
   ]
  },
  {
   "cell_type": "code",
   "execution_count": 9,
   "metadata": {
    "collapsed": false
   },
   "outputs": [
    {
     "data": {
      "text/plain": [
       "False"
      ]
     },
     "execution_count": 9,
     "metadata": {},
     "output_type": "execute_result"
    }
   ],
   "source": [
    "hasattr(rect, 'width')    # Returns true if 'width' attribute exists"
   ]
  },
  {
   "cell_type": "code",
   "execution_count": 10,
   "metadata": {
    "collapsed": false
   },
   "outputs": [
    {
     "data": {
      "text/plain": [
       "4"
      ]
     },
     "execution_count": 10,
     "metadata": {},
     "output_type": "execute_result"
    }
   ],
   "source": [
    "getattr(rect, 'dim')    # Returns value of 'dim' attribute"
   ]
  },
  {
   "cell_type": "code",
   "execution_count": 11,
   "metadata": {
    "collapsed": false
   },
   "outputs": [],
   "source": [
    "setattr(rect, 'convexity', True) # Set attribute 'convexity' at true"
   ]
  },
  {
   "cell_type": "code",
   "execution_count": 12,
   "metadata": {
    "collapsed": false
   },
   "outputs": [
    {
     "data": {
      "text/plain": [
       "True"
      ]
     },
     "execution_count": 12,
     "metadata": {},
     "output_type": "execute_result"
    }
   ],
   "source": [
    "getattr(rect, 'convexity') "
   ]
  },
  {
   "cell_type": "code",
   "execution_count": 15,
   "metadata": {
    "collapsed": false
   },
   "outputs": [
    {
     "ename": "AttributeError",
     "evalue": "convexity",
     "output_type": "error",
     "traceback": [
      "\u001b[0;31m---------------------------------------------------------------------------\u001b[0m",
      "\u001b[0;31mAttributeError\u001b[0m                            Traceback (most recent call last)",
      "\u001b[0;32m<ipython-input-15-88fa53251b83>\u001b[0m in \u001b[0;36m<module>\u001b[0;34m()\u001b[0m\n\u001b[0;32m----> 1\u001b[0;31m \u001b[0mdelattr\u001b[0m\u001b[0;34m(\u001b[0m\u001b[0mrect\u001b[0m\u001b[0;34m,\u001b[0m \u001b[0;34m'convexity'\u001b[0m\u001b[0;34m)\u001b[0m    \u001b[0;31m# Delete attribute 'convexity'\u001b[0m\u001b[0;34m\u001b[0m\u001b[0m\n\u001b[0m",
      "\u001b[0;31mAttributeError\u001b[0m: convexity"
     ]
    }
   ],
   "source": [
    "delattr(rect, 'convexity')    # Delete attribute 'convexity'"
   ]
  },
  {
   "cell_type": "code",
   "execution_count": 16,
   "metadata": {
    "collapsed": false
   },
   "outputs": [
    {
     "data": {
      "text/plain": [
       "False"
      ]
     },
     "execution_count": 16,
     "metadata": {},
     "output_type": "execute_result"
    }
   ],
   "source": [
    "getattr(rect, 'convexity') "
   ]
  },
  {
   "cell_type": "markdown",
   "metadata": {},
   "source": [
    "### Destroy an object"
   ]
  },
  {
   "cell_type": "code",
   "execution_count": 17,
   "metadata": {
    "collapsed": false
   },
   "outputs": [],
   "source": [
    "del rect"
   ]
  },
  {
   "cell_type": "code",
   "execution_count": null,
   "metadata": {
    "collapsed": true
   },
   "outputs": [],
   "source": [
    "rect."
   ]
  },
  {
   "cell_type": "markdown",
   "metadata": {},
   "source": [
    "**Exercise.** Add a derived class *Pentagon* from *Polygon*."
   ]
  },
  {
   "cell_type": "code",
   "execution_count": 4,
   "metadata": {
    "collapsed": true
   },
   "outputs": [],
   "source": [
    "class Pentagon(Polygon):\n",
    "    #Constructor\n",
    "    def __init__(self, dim):\n",
    "        self.dim=dim\n",
    "        self.nodes_labels=[i+1 for i in range(dim)]"
   ]
  },
  {
   "cell_type": "markdown",
   "metadata": {},
   "source": [
    "### C) Import a class"
   ]
  },
  {
   "cell_type": "markdown",
   "metadata": {},
   "source": [
    "You may have your classes **Polygon and Rectangle** in a python file called polygons.py. To use it in an other file you need to first import it using: \n",
    "\n",
    "~~~ {.python}\n",
    "from pythonfilename import classname\n",
    "~~~\n",
    "\n",
    "This is what we called in Introduction **reutilisability**.\n"
   ]
  },
  {
   "cell_type": "code",
   "execution_count": 75,
   "metadata": {
    "collapsed": false
   },
   "outputs": [],
   "source": [
    "from polygons import Rectangle"
   ]
  },
  {
   "cell_type": "code",
   "execution_count": 77,
   "metadata": {
    "collapsed": false
   },
   "outputs": [],
   "source": [
    "rectangle=Rectangle(4)"
   ]
  },
  {
   "cell_type": "code",
   "execution_count": 21,
   "metadata": {
    "collapsed": false
   },
   "outputs": [
    {
     "data": {
      "text/plain": [
       "[1, 4]"
      ]
     },
     "execution_count": 21,
     "metadata": {},
     "output_type": "execute_result"
    }
   ],
   "source": [
    "rectangle.getNeighbours(3)"
   ]
  },
  {
   "cell_type": "code",
   "execution_count": 84,
   "metadata": {
    "collapsed": true
   },
   "outputs": [],
   "source": [
    "import polygons as p"
   ]
  },
  {
   "cell_type": "code",
   "execution_count": 85,
   "metadata": {
    "collapsed": false
   },
   "outputs": [],
   "source": [
    "rectangle=p.Rectangle(4)"
   ]
  },
  {
   "cell_type": "code",
   "execution_count": 86,
   "metadata": {
    "collapsed": false
   },
   "outputs": [
    {
     "data": {
      "text/plain": [
       "[3, 2]"
      ]
     },
     "execution_count": 86,
     "metadata": {},
     "output_type": "execute_result"
    }
   ],
   "source": [
    "rectangle.getNeighbours(4)"
   ]
  },
  {
   "cell_type": "markdown",
   "metadata": {},
   "source": [
    "## Example"
   ]
  },
  {
   "cell_type": "markdown",
   "metadata": {},
   "source": [
    "### Propose a Python code that gets a regular triangle from a regular rectangle."
   ]
  },
  {
   "cell_type": "markdown",
   "metadata": {},
   "source": [
    "### Solution"
   ]
  },
  {
   "cell_type": "code",
   "execution_count": 72,
   "metadata": {
    "collapsed": false
   },
   "outputs": [],
   "source": [
    "import numpy as np\n",
    "class Rectangle(Polygon):\n",
    "    #Constructor\n",
    "    def __init__(self, dim):\n",
    "        self.dim=dim\n",
    "        self.nodes_labels=[i+1 for i in range(dim)]\n",
    "    \n",
    "    def getRegTriangleFromRegRectangle(self):\n",
    "        adjacencies=self.getAdjacencies()\n",
    "        area=self.getArea()\n",
    "        point_x_to_delete=np.random.randint(1, 5)# choose point to delete\n",
    "        #get neighbours of the point to delete\n",
    "        adjacencies_x=self.getNeighbours(point_x_to_delete) \n",
    "        #delete the point chosen above\n",
    "        self.nodes_labels.remove(point_x_to_delete)\n",
    "        #regularize the remaining points by choosing one neighbour\n",
    "        point_to_move=np.random.choice(adjacencies_x)\n",
    "        #Remove the deleted point in adjacencies list\n",
    "        adjacencies=self.cleanNeighbours(point_x_to_delete)\n",
    "        #remove the moved point from the neighbours of the deleted point\n",
    "        adjacencies_x.remove(point_to_move)\n",
    "        #readjust the adjacencies \n",
    "        self.setAdjacency((point_to_move, adjacencies_x[0]))\n",
    "        #readjust the area\n",
    "        area[point_to_move-1]=((area[point_to_move-1][0]+area[point_x_to_delete-1][0])/2.0,(area[point_to_move-1][1]+area[point_x_to_delete-1][1])/2.0)\n",
    "        area.remove(area[point_x_to_delete-1])\n",
    "        self.title=\"Triangle\"\n",
    "        return self.nodes_labels,self.getAdjacencies(), area"
   ]
  },
  {
   "cell_type": "code",
   "execution_count": 73,
   "metadata": {
    "collapsed": false
   },
   "outputs": [],
   "source": [
    "rect=Rectangle(4)"
   ]
  },
  {
   "cell_type": "code",
   "execution_count": 74,
   "metadata": {
    "collapsed": false
   },
   "outputs": [
    {
     "name": "stdout",
     "output_type": "stream",
     "text": [
      "([1, 3, 4], [(1, 3), (3, 4), (1, 4)], [(0.5, 0.0), (0, 1), (1, 1)])\n"
     ]
    }
   ],
   "source": [
    "result=rect.getRegTriangleFromRegRectangle()\n",
    "print (result)"
   ]
  },
  {
   "cell_type": "markdown",
   "metadata": {},
   "source": [
    "## 7.3. Exercises\n",
    "\n",
    "#### Propose Python code that:"
   ]
  },
  {
   "cell_type": "markdown",
   "metadata": {},
   "source": [
    "#### 1. gets an irregular triangle from a regular square.\n",
    "#### 2. obtains an irregular pentagon from an irregular hexagon.\n",
    "#### 3. implements the overall polygon model.\n",
    "#### 4. gets any shape (regular or irregular) from any other shape (regular or regular).\n",
    "#### 5. allows to get a circle from the generalization described above."
   ]
  }
 ],
 "metadata": {
  "kernelspec": {
   "display_name": "Python 3",
   "language": "python",
   "name": "python3"
  },
  "language_info": {
   "codemirror_mode": {
    "name": "ipython",
    "version": 3
   },
   "file_extension": ".py",
   "mimetype": "text/x-python",
   "name": "python",
   "nbconvert_exporter": "python",
   "pygments_lexer": "ipython3",
   "version": "3.4.3"
  }
 },
 "nbformat": 4,
 "nbformat_minor": 0
}
